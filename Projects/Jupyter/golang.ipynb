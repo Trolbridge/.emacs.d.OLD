{
 "cells": [
  {
   "cell_type": "markdown",
   "id": "10b1a118-80c6-4864-900e-960b73c81899",
   "metadata": {},
   "source": [
    "# Hello World"
   ]
  },
  {
   "cell_type": "code",
   "execution_count": 1,
   "id": "2f727f71-38ab-41ca-8604-146a2896a752",
   "metadata": {
    "tags": []
   },
   "outputs": [
    {
     "name": "stdout",
     "output_type": "stream",
     "text": [
      "eello\n"
     ]
    }
   ],
   "source": [
    "package main\n",
    "\n",
    "import \"fmt\"\n",
    "\n",
    "\n",
    "func main() {\n",
    "    fmt.Println(\"eello\")\n",
    "}\n",
    "main()"
   ]
  },
  {
   "cell_type": "markdown",
   "id": "28253c48-c9e4-49b9-8f59-e941a4d2209c",
   "metadata": {},
   "source": [
    "# Create Golang workspace in VS Code\n",
    "File > Save Workspace As...  \n",
    "New Folder \"toolkit-project\"  \n",
    "Save As: toolkit.code-workspace  \n",
    "File > Add Folder to Workspace...  \n",
    "Select \"toolkit-project\"  \n",
    "New Folder \"toolkit\"  \n",
    "File > Add Folder to Workspace...  \n",
    "Select \"toolkit-project\"  \n",
    "New Folder \"app\"  \n",
    "cd into \"toolkit\" folder  \n",
    "go mod init github.com/trolbridge/toolkit  \n",
    "cd ../app  \n",
    "go mod init myapp  \n",
    "cd ..  \n",
    "go work init toolkit app  \n",
    "touch toolkit/tools.go  \n",
    "printf \"%s\\n\" \"package toolkit\" \"\" \"type Tools struct {}\" > toolkit/tools.go  \n"
   ]
  },
  {
   "cell_type": "markdown",
   "id": "f4b3fe3f-7a01-42c9-9b3b-7d9da6318aa0",
   "metadata": {
    "tags": []
   },
   "source": [
    "<style>\n",
    "    style=\"color:green;font-size: 30px;\"\n",
    "    tab\t\t\t\t\t\t\t\t\t\t&emsp;\n",
    "    space\t\t\t\t\t\t\t\t\t&ensp; \n",
    "    Non-breaking space\t\t\t\t\t\t&nbsp;\n",
    "    Less than (<)\t\t\t\t\t\t\t&lt;\n",
    "    More than (>)\t\t\t\t\t\t\t&gt;\n",
    "    Ampersand (&)\t\t\t\t\t\t\t&amp;\n",
    "    single quotation mark (apostrophe) (‘)\t&apos;\n",
    "    double quotation mark (“)\t\t\t\t&quot;\n",
    "    <span style=\"display:inline-block; width: YOURWIDTH;\"></span>\n",
    "    <span style=\"display:block; height: YOURHEIGHT;\"></span>\n",
    "    [//]: # (This may be the most platform independent comment)\n",
    "</style>\n",
    "    \n",
    "<span style=\"color:green;font-size: 30px;\">Four Major types of Declaration <span style=\"color:blue\">Variable, Type, Constant, Function</span> </span>\n",
    "    \n",
    "[//]: # (Variable)\n",
    "<span style=\"font-size: 25px;\">Variable</span><br>\n",
    "<span style=\"font-size: 20px;\">&emsp;Variable Declaration</span><br>\n",
    "<span style=\"color:green\">&emsp;&emsp;var name type = expression<span style=\"color:black\">&ensp;<em>**type or expression can be omitted but not both</em></span></span><br>\n",
    "<span style=\"color:blue\">&emsp;&emsp;&emsp;var integer int = 1</span><br>\n",
    "<span style=\"color:orange\">&emsp;&emsp;&emsp;&emsp;var integer int</span><br>\n",
    "<span style=\"color:orange\">&emsp;&emsp;&emsp;&emsp;var integer = 1</span><br>\n",
    "<span style=\"color:green\">&emsp;&emsp;Multi variable declaration</span><br>\n",
    "<span style=\"color:blue\">&emsp;&emsp;&emsp;var integer1, integer2 int</span><br>\n",
    "<span style=\"color:blue\">&emsp;&emsp;&emsp;var integer, string = 1, \"string\"</span><br>\n",
    "<span>&emsp;&emsp;default values: null for interfaces and references</span>\n",
    "\n",
    "[//]: # (Short Declaration)\n",
    "<span style=\"font-size: 20px;\">&emsp;Short Declaration</span><br>\n",
    "<span style=\"color:green\">&emsp;&emsp;name := expression</span><br>\n",
    "<span style=\"color:blue\">&emsp;&emsp;&emsp;boolean := false</span><br>\n",
    "\n",
    "[//]: # (Pointers)\n",
    "<span style=\"font-size: 20px;\">&emsp;Pointers</span><br>\n",
    "<span style=\"color:blue\">&emsp;&emsp;var int x = 1</span><br>\n",
    "<span style=\"color:blue\">&emsp;&emsp;var p *int = &x</span><br>\n",
    "<span style=\"color:blue\">&emsp;&emsp;x := 1</span><br>\n",
    "<span style=\"color:blue\">&emsp;&emsp;p := &x</span><br>\n",
    "    \n",
    "[//]: # (Type)\n",
    "<span style=\"font-size: 25px;\">Type</span><br>\n",
    "<span style=\"color:green\">&emsp;type fahrenheit float32</span><br>\n",
    "<span style=\"color:green\">&emsp;type celsius float32</span><br>\n",
    "<span style=\"color:blue\">&emsp;&emsp;var f fahrenheit = 32</span><br>\n",
    "<span style=\"color:blue\">&emsp;&emsp;var c celsius = 0</span><br>\n",
    "    \n",
    "[//]: # (Casting)\n",
    "<span style=\"font-size: 20px;\">&emsp;Casting conversions</span><br>\n",
    "<span style=\"color:green\">&emsp;&emsp;c = celsius((f - 32) * 5 / 9)</span><br>\n",
    "\n",
    "[//]: # (Constant)\n",
    "<span style=\"font-size: 25px;\">Constant</span><br>\n",
    "\n",
    "[//]: # (Function)\n",
    "<span style=\"font-size: 25px;\">Function</span><br>\n"
   ]
  },
  {
   "cell_type": "code",
   "execution_count": 2,
   "id": "d5d1c0ce-5601-46a4-bf00-ae4df86a619f",
   "metadata": {},
   "outputs": [],
   "source": [
    "package main\n",
    "\n",
    "import \"fmt\"\n",
    "\n",
    "func main() {\n",
    "\tx := 1\n",
    "\tvar p *int = &x\n",
    "\tfmt.Println(p, *p)\n",
    "\tfmt.Println(*p)\n",
    "\ttype fahrenheit = float32\n",
    "\ttype celsius float32\n",
    "\tvar f fahrenheit = 32\n",
    "\tvar c celsius = 0\n",
    "\t// Casting conversions\n",
    "\tc = celsius((f - 32) * 5 / 9)\n",
    "\tfmt.Printf(\"%.1f, %.1f\", f, c,)\n",
    "}"
   ]
  },
  {
   "cell_type": "markdown",
   "id": "a1fc9e81-43fc-4d31-ac2b-052bdeccaaf9",
   "metadata": {},
   "source": [
    "Packages & Scope  \n",
    "\n",
    "3 Levels of Scope block\tpackage\tuniverse\n",
    "block inside brackets\n",
    "package inside a package outside brackets"
   ]
  }
 ],
 "metadata": {
  "kernelspec": {
   "display_name": "Go",
   "language": "go",
   "name": "gophernotes"
  },
  "language_info": {
   "codemirror_mode": "",
   "file_extension": ".go",
   "mimetype": "",
   "name": "go",
   "nbconvert_exporter": "",
   "pygments_lexer": "",
   "version": "go1.18.1"
  }
 },
 "nbformat": 4,
 "nbformat_minor": 5
}
